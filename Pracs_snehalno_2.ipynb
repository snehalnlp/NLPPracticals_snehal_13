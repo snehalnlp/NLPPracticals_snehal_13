{
  "nbformat": 4,
  "nbformat_minor": 0,
  "metadata": {
    "colab": {
      "name": "Pracs_snehalno 2.ipynb",
      "provenance": [],
      "authorship_tag": "ABX9TyNrQ8uJG3FIirFi5whYDEOJ",
      "include_colab_link": true
    },
    "kernelspec": {
      "name": "python3",
      "display_name": "Python 3"
    },
    "language_info": {
      "name": "python"
    }
  },
  "cells": [
    {
      "cell_type": "markdown",
      "metadata": {
        "id": "view-in-github",
        "colab_type": "text"
      },
      "source": [
        "<a href=\"https://colab.research.google.com/github/snehalnlp/NLPPracticals_snehal_13/blob/main/Pracs_snehalno_2.ipynb\" target=\"_parent\"><img src=\"https://colab.research.google.com/assets/colab-badge.svg\" alt=\"Open In Colab\"/></a>"
      ]
    },
    {
      "cell_type": "markdown",
      "metadata": {
        "id": "8mS6uHFR3SLY"
      },
      "source": [
        "Practical 2 - Processing Raw Text\n",
        "\n",
        "Accessing text from Web.\n",
        "Accessing local text file.\n",
        "Accessing text from PDF, Word and other Binary Format\n",
        "The NLP pipeline"
      ]
    },
    {
      "cell_type": "code",
      "metadata": {
        "id": "L78YnCnlyOIE"
      },
      "source": [
        "from urllib import request"
      ],
      "execution_count": null,
      "outputs": []
    },
    {
      "cell_type": "code",
      "metadata": {
        "id": "F3QRz9XFyaH9"
      },
      "source": [
        "url = \"http://www.gutenberg.org/files/2554/2554-0.txt\""
      ],
      "execution_count": null,
      "outputs": []
    },
    {
      "cell_type": "code",
      "metadata": {
        "id": "pzARc-6cydDk"
      },
      "source": [
        "from __future__ import division"
      ],
      "execution_count": null,
      "outputs": []
    },
    {
      "cell_type": "code",
      "metadata": {
        "id": "PttCprI0yd9d"
      },
      "source": [
        "import nltk, re, pprint"
      ],
      "execution_count": null,
      "outputs": []
    },
    {
      "cell_type": "code",
      "metadata": {
        "id": "do8vrOvkyg0p"
      },
      "source": [
        "from nltk import word_tokenize"
      ],
      "execution_count": null,
      "outputs": []
    },
    {
      "cell_type": "code",
      "metadata": {
        "id": "axufOeNLyka2"
      },
      "source": [
        "response = request.urlopen(url)"
      ],
      "execution_count": null,
      "outputs": []
    },
    {
      "cell_type": "code",
      "metadata": {
        "id": "fsbACgBeyq83"
      },
      "source": [
        "raw = response.read().decode('utf8')"
      ],
      "execution_count": null,
      "outputs": []
    },
    {
      "cell_type": "code",
      "metadata": {
        "colab": {
          "base_uri": "https://localhost:8080/"
        },
        "id": "tnhiAKFUy5Pq",
        "outputId": "fc32d8ed-380c-4cbf-af1c-5f1c22fe4703"
      },
      "source": [
        "type(raw)"
      ],
      "execution_count": null,
      "outputs": [
        {
          "output_type": "execute_result",
          "data": {
            "text/plain": [
              "str"
            ]
          },
          "metadata": {
            "tags": []
          },
          "execution_count": 12
        }
      ]
    },
    {
      "cell_type": "code",
      "metadata": {
        "colab": {
          "base_uri": "https://localhost:8080/"
        },
        "id": "CJpUOyDPkTJv",
        "outputId": "9a18bf93-dfaf-4a13-cacd-1983784ff156"
      },
      "source": [
        "len(raw)"
      ],
      "execution_count": null,
      "outputs": [
        {
          "output_type": "execute_result",
          "data": {
            "text/plain": [
              "1176967"
            ]
          },
          "metadata": {
            "tags": []
          },
          "execution_count": 13
        }
      ]
    },
    {
      "cell_type": "code",
      "metadata": {
        "colab": {
          "base_uri": "https://localhost:8080/",
          "height": 35
        },
        "id": "gv5Da_vSkWhl",
        "outputId": "f7663015-4fdc-427b-af5a-2b9c76a69763"
      },
      "source": [
        "raw[:75]"
      ],
      "execution_count": null,
      "outputs": [
        {
          "output_type": "execute_result",
          "data": {
            "application/vnd.google.colaboratory.intrinsic+json": {
              "type": "string"
            },
            "text/plain": [
              "'\\ufeffThe Project Gutenberg EBook of Crime and Punishment, by Fyodor Dostoevsky\\r'"
            ]
          },
          "metadata": {
            "tags": []
          },
          "execution_count": 14
        }
      ]
    },
    {
      "cell_type": "code",
      "metadata": {
        "colab": {
          "base_uri": "https://localhost:8080/"
        },
        "id": "MEhs2VqpkgVt",
        "outputId": "6c74bea6-89c2-4a4f-b735-dc4451403d2b"
      },
      "source": [
        "import nltk\n",
        "nltk.download('punkt')\n",
        "from nltk import word_tokenize"
      ],
      "execution_count": null,
      "outputs": [
        {
          "output_type": "stream",
          "text": [
            "[nltk_data] Downloading package punkt to /root/nltk_data...\n",
            "[nltk_data]   Unzipping tokenizers/punkt.zip.\n"
          ],
          "name": "stdout"
        }
      ]
    },
    {
      "cell_type": "code",
      "metadata": {
        "colab": {
          "base_uri": "https://localhost:8080/"
        },
        "id": "cX0j1gZsktu0",
        "outputId": "b7dffa53-cd5e-4e35-adb9-6535214539af"
      },
      "source": [
        "tokens = word_tokenize(raw)\n",
        "type(tokens)"
      ],
      "execution_count": null,
      "outputs": [
        {
          "output_type": "execute_result",
          "data": {
            "text/plain": [
              "list"
            ]
          },
          "metadata": {
            "tags": []
          },
          "execution_count": 16
        }
      ]
    },
    {
      "cell_type": "code",
      "metadata": {
        "colab": {
          "base_uri": "https://localhost:8080/"
        },
        "id": "jyZ66Ilskxmt",
        "outputId": "2eefc6b1-0e29-4d68-914f-eb8e031fb63c"
      },
      "source": [
        "len(tokens)"
      ],
      "execution_count": null,
      "outputs": [
        {
          "output_type": "execute_result",
          "data": {
            "text/plain": [
              "257727"
            ]
          },
          "metadata": {
            "tags": []
          },
          "execution_count": 17
        }
      ]
    },
    {
      "cell_type": "code",
      "metadata": {
        "colab": {
          "base_uri": "https://localhost:8080/"
        },
        "id": "IdV3du43k3fT",
        "outputId": "366ac752-dedd-4fa1-c19e-165517f64a86"
      },
      "source": [
        "tokens[:10]"
      ],
      "execution_count": null,
      "outputs": [
        {
          "output_type": "execute_result",
          "data": {
            "text/plain": [
              "['\\ufeffThe',\n",
              " 'Project',\n",
              " 'Gutenberg',\n",
              " 'EBook',\n",
              " 'of',\n",
              " 'Crime',\n",
              " 'and',\n",
              " 'Punishment',\n",
              " ',',\n",
              " 'by']"
            ]
          },
          "metadata": {
            "tags": []
          },
          "execution_count": 18
        }
      ]
    },
    {
      "cell_type": "code",
      "metadata": {
        "id": "KhaePjpak8Nh"
      },
      "source": [
        "text = nltk.Text(tokens)"
      ],
      "execution_count": null,
      "outputs": []
    },
    {
      "cell_type": "code",
      "metadata": {
        "colab": {
          "base_uri": "https://localhost:8080/"
        },
        "id": "Y3zP3j4Nk_kh",
        "outputId": "ae1bee13-f691-47ee-e846-f270e8aecba0"
      },
      "source": [
        "type(text)"
      ],
      "execution_count": null,
      "outputs": [
        {
          "output_type": "execute_result",
          "data": {
            "text/plain": [
              "nltk.text.Text"
            ]
          },
          "metadata": {
            "tags": []
          },
          "execution_count": 20
        }
      ]
    },
    {
      "cell_type": "code",
      "metadata": {
        "colab": {
          "base_uri": "https://localhost:8080/"
        },
        "id": "X_Zh0GVvlF9C",
        "outputId": "faa598c6-34de-42e0-f10f-626559e96ab3"
      },
      "source": [
        "text = nltk.Text(tokens)\n",
        "text"
      ],
      "execution_count": null,
      "outputs": [
        {
          "output_type": "execute_result",
          "data": {
            "text/plain": [
              "<Text: ﻿The Project Gutenberg EBook of Crime and Punishment...>"
            ]
          },
          "metadata": {
            "tags": []
          },
          "execution_count": 21
        }
      ]
    },
    {
      "cell_type": "code",
      "metadata": {
        "colab": {
          "base_uri": "https://localhost:8080/"
        },
        "id": "SseM2oXQlJl8",
        "outputId": "6370052e-8175-49e7-83c5-573a66426042"
      },
      "source": [
        "text[1024:1062]"
      ],
      "execution_count": null,
      "outputs": [
        {
          "output_type": "execute_result",
          "data": {
            "text/plain": [
              "['an',\n",
              " 'exceptionally',\n",
              " 'hot',\n",
              " 'evening',\n",
              " 'early',\n",
              " 'in',\n",
              " 'July',\n",
              " 'a',\n",
              " 'young',\n",
              " 'man',\n",
              " 'came',\n",
              " 'out',\n",
              " 'of',\n",
              " 'the',\n",
              " 'garret',\n",
              " 'in',\n",
              " 'which',\n",
              " 'he',\n",
              " 'lodged',\n",
              " 'in',\n",
              " 'S.',\n",
              " 'Place',\n",
              " 'and',\n",
              " 'walked',\n",
              " 'slowly',\n",
              " ',',\n",
              " 'as',\n",
              " 'though',\n",
              " 'in',\n",
              " 'hesitation',\n",
              " ',',\n",
              " 'towards',\n",
              " 'K.',\n",
              " 'bridge',\n",
              " '.',\n",
              " 'He',\n",
              " 'had',\n",
              " 'successfully']"
            ]
          },
          "metadata": {
            "tags": []
          },
          "execution_count": 22
        }
      ]
    },
    {
      "cell_type": "code",
      "metadata": {
        "colab": {
          "base_uri": "https://localhost:8080/"
        },
        "id": "RPWxuWKGlblf",
        "outputId": "7dc34a82-81f5-4fbc-d8fd-98d338b64f9d"
      },
      "source": [
        "nltk.download('stopwords')\n",
        "text.collocations()"
      ],
      "execution_count": null,
      "outputs": [
        {
          "output_type": "stream",
          "text": [
            "[nltk_data] Downloading package stopwords to /root/nltk_data...\n",
            "[nltk_data]   Unzipping corpora/stopwords.zip.\n",
            "Katerina Ivanovna; Pyotr Petrovitch; Pulcheria Alexandrovna; Avdotya\n",
            "Romanovna; Rodion Romanovitch; Marfa Petrovna; Sofya Semyonovna; old\n",
            "woman; Project Gutenberg-tm; Porfiry Petrovitch; Amalia Ivanovna;\n",
            "great deal; young man; Nikodim Fomitch; Ilya Petrovitch; Project\n",
            "Gutenberg; Andrey Semyonovitch; Hay Market; Dmitri Prokofitch; Good\n",
            "heavens\n"
          ],
          "name": "stdout"
        }
      ]
    },
    {
      "cell_type": "code",
      "metadata": {
        "colab": {
          "base_uri": "https://localhost:8080/"
        },
        "id": "wg4Sypg6n42h",
        "outputId": "16b0296b-727f-496c-fa3a-1380e005db91"
      },
      "source": [
        "raw.find(\"PART I\")"
      ],
      "execution_count": null,
      "outputs": [
        {
          "output_type": "execute_result",
          "data": {
            "text/plain": [
              "5336"
            ]
          },
          "metadata": {
            "tags": []
          },
          "execution_count": 24
        }
      ]
    },
    {
      "cell_type": "code",
      "metadata": {
        "colab": {
          "base_uri": "https://localhost:8080/"
        },
        "id": "gNB40J01ofbs",
        "outputId": "a125543d-c53c-45d1-8202-2391ed4cfe1b"
      },
      "source": [
        "raw.rfind(\"End of Project Gutenberg's Crime\")"
      ],
      "execution_count": null,
      "outputs": [
        {
          "output_type": "execute_result",
          "data": {
            "text/plain": [
              "-1"
            ]
          },
          "metadata": {
            "tags": []
          },
          "execution_count": 25
        }
      ]
    },
    {
      "cell_type": "code",
      "metadata": {
        "colab": {
          "base_uri": "https://localhost:8080/"
        },
        "id": "y9glAeUDomoi",
        "outputId": "fc70dd69-56b4-4463-c164-01a0d27051bf"
      },
      "source": [
        "raw = raw[5338:1157743] [1]\n",
        "raw.find(\"PART I\")"
      ],
      "execution_count": null,
      "outputs": [
        {
          "output_type": "execute_result",
          "data": {
            "text/plain": [
              "-1"
            ]
          },
          "metadata": {
            "tags": []
          },
          "execution_count": 26
        }
      ]
    },
    {
      "cell_type": "markdown",
      "metadata": {
        "id": "_KU5NhEno1Ln"
      },
      "source": [
        "2. Accessing local text file"
      ]
    },
    {
      "cell_type": "code",
      "metadata": {
        "colab": {
          "base_uri": "https://localhost:8080/"
        },
        "id": "oINyL1CUo615",
        "outputId": "fe5e756f-1905-48ef-a17a-b5997089ccef"
      },
      "source": [
        "import nltk\n",
        "nltk.download('punkt')\n",
        "from nltk import word_tokenize"
      ],
      "execution_count": null,
      "outputs": [
        {
          "output_type": "stream",
          "text": [
            "[nltk_data] Downloading package punkt to /root/nltk_data...\n",
            "[nltk_data]   Package punkt is already up-to-date!\n"
          ],
          "name": "stdout"
        }
      ]
    },
    {
      "cell_type": "code",
      "metadata": {
        "id": "OL3Wi5pMpGD6"
      },
      "source": [
        "#@title Default title text\n",
        "raw = f.read()"
      ],
      "execution_count": null,
      "outputs": []
    },
    {
      "cell_type": "code",
      "metadata": {
        "id": "RmPVCkBto_q1"
      },
      "source": [
        "f = open('NLP.txt')"
      ],
      "execution_count": null,
      "outputs": []
    },
    {
      "cell_type": "code",
      "metadata": {
        "id": "J7E0lbYFpJBc"
      },
      "source": [
        "f = open('NLP.txt')"
      ],
      "execution_count": null,
      "outputs": []
    },
    {
      "cell_type": "code",
      "metadata": {
        "id": "RiwWGDifpLtV"
      },
      "source": [
        "import os"
      ],
      "execution_count": null,
      "outputs": []
    },
    {
      "cell_type": "code",
      "metadata": {
        "colab": {
          "base_uri": "https://localhost:8080/"
        },
        "id": "4tHidVRkpQUW",
        "outputId": "bb403295-d9b6-48a7-a1da-2a4c92bac8eb"
      },
      "source": [
        "os.listdir('.')"
      ],
      "execution_count": null,
      "outputs": [
        {
          "output_type": "execute_result",
          "data": {
            "text/plain": [
              "['.config', 'NLP.txt', 'sample_data']"
            ]
          },
          "metadata": {
            "tags": []
          },
          "execution_count": 43
        }
      ]
    },
    {
      "cell_type": "code",
      "metadata": {
        "colab": {
          "base_uri": "https://localhost:8080/",
          "height": 35
        },
        "id": "tfytsM1mrw1b",
        "outputId": "85462659-23e3-4ae4-926a-b86f51b14aca"
      },
      "source": [
        "f.read()"
      ],
      "execution_count": null,
      "outputs": [
        {
          "output_type": "execute_result",
          "data": {
            "application/vnd.google.colaboratory.intrinsic+json": {
              "type": "string"
            },
            "text/plain": [
              "'Natural Processing Language'"
            ]
          },
          "metadata": {
            "tags": []
          },
          "execution_count": 44
        }
      ]
    },
    {
      "cell_type": "code",
      "metadata": {
        "colab": {
          "base_uri": "https://localhost:8080/"
        },
        "id": "Lgn_ra0kr91h",
        "outputId": "2dcae6b9-edd2-44c6-8cf9-884a480fc7e7"
      },
      "source": [
        "f = open('NLP.txt', 'rU')\n",
        "for line in f:\n",
        "  print(line.strip())"
      ],
      "execution_count": null,
      "outputs": [
        {
          "output_type": "stream",
          "text": [
            "Natural Processing Language\n"
          ],
          "name": "stdout"
        },
        {
          "output_type": "stream",
          "text": [
            "/usr/local/lib/python3.7/dist-packages/ipykernel_launcher.py:1: DeprecationWarning: 'U' mode is deprecated\n",
            "  \"\"\"Entry point for launching an IPython kernel.\n"
          ],
          "name": "stderr"
        }
      ]
    },
    {
      "cell_type": "code",
      "metadata": {
        "id": "6B3rLb49y3nF"
      },
      "source": [
        "s = input(\"Enter some text: \")"
      ],
      "execution_count": null,
      "outputs": []
    },
    {
      "cell_type": "code",
      "metadata": {
        "id": "aunkwi640zkJ"
      },
      "source": [
        "print(\"You typed\", len(word_tokenize(s)), \"words.\")"
      ],
      "execution_count": null,
      "outputs": []
    },
    {
      "cell_type": "code",
      "metadata": {
        "id": "Fa5BRumG04xX"
      },
      "source": [
        "raw = open('NLP.txt').read()"
      ],
      "execution_count": null,
      "outputs": []
    },
    {
      "cell_type": "code",
      "metadata": {
        "id": "Nh7naMap09qW"
      },
      "source": [
        "type(raw)"
      ],
      "execution_count": null,
      "outputs": []
    },
    {
      "cell_type": "code",
      "metadata": {
        "id": "_oUI80Xn1BYr"
      },
      "source": [
        "tokens = word_tokenize(raw)\n",
        "type(tokens)"
      ],
      "execution_count": null,
      "outputs": []
    },
    {
      "cell_type": "code",
      "metadata": {
        "id": "pnXjMeKj1D3q"
      },
      "source": [
        "words = [w.lower() for w in tokens]\n",
        "type(words)"
      ],
      "execution_count": null,
      "outputs": []
    },
    {
      "cell_type": "code",
      "metadata": {
        "id": "-Z79XRwD1HlJ"
      },
      "source": [
        "vocab = sorted(set(words))\n",
        "type(vocab)"
      ],
      "execution_count": null,
      "outputs": []
    }
  ]
}